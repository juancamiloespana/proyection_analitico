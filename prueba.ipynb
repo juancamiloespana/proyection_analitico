{
  "nbformat": 4,
  "nbformat_minor": 0,
  "metadata": {
    "colab": {
      "provenance": [],
      "include_colab_link": true
    },
    "kernelspec": {
      "name": "python3",
      "display_name": "Python 3"
    },
    "language_info": {
      "name": "python"
    }
  },
  "cells": [
    {
      "cell_type": "markdown",
      "metadata": {
        "id": "view-in-github",
        "colab_type": "text"
      },
      "source": [
        "<a href=\"https://colab.research.google.com/github/juancamiloespana/proyection_analitico/blob/main/prueba.ipynb\" target=\"_parent\"><img src=\"https://colab.research.google.com/assets/colab-badge.svg\" alt=\"Open In Colab\"/></a>"
      ]
    },
    {
      "cell_type": "code",
      "source": [
        "from google.colab import drive\n",
        "drive.mount('/content/drive')"
      ],
      "metadata": {
        "colab": {
          "base_uri": "https://localhost:8080/"
        },
        "id": "ug-eQsg8xHMx",
        "outputId": "d5102542-b99f-4c28-b24a-525cc6bb1164"
      },
      "execution_count": 1,
      "outputs": [
        {
          "output_type": "stream",
          "name": "stdout",
          "text": [
            "Mounted at /content/drive\n"
          ]
        }
      ]
    },
    {
      "cell_type": "code",
      "execution_count": 2,
      "metadata": {
        "id": "vHDwJl_jvlgO"
      },
      "outputs": [],
      "source": [
        "\n",
        "import sys\n",
        "import os\n",
        "\n",
        "path='/content/drive/MyDrive/cod/proyection_analitico'\n",
        "\n",
        "os.chdir(path) ### setting a Working directory on drive path\n",
        "sys.path.append(path+'/')  ###setting path to read user defined functions"
      ]
    },
    {
      "cell_type": "code",
      "source": [
        "import pandas as pd\n",
        "from sklearn import datasets\n",
        "\n",
        "iris=datasets.load_iris()\n",
        "df_iris = pd.DataFrame(data=iris.data, columns=iris.feature_names)\n",
        "\n",
        "df_iris.to_csv('iris.csv')\n",
        "\n"
      ],
      "metadata": {
        "id": "p3Nlq6FJwYsr"
      },
      "execution_count": 3,
      "outputs": []
    },
    {
      "cell_type": "code",
      "source": [
        "cargar=pd.read_csv('iris.csv')"
      ],
      "metadata": {
        "id": "KN1drkl80QCe"
      },
      "execution_count": null,
      "outputs": []
    }
  ]
}